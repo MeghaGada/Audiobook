{
 "cells": [
  {
   "cell_type": "code",
   "execution_count": null,
   "id": "aa3ed5f0",
   "metadata": {},
   "outputs": [],
   "source": [
    "! pip install PyPDF2\n",
    "! pip install pyttsx3"
   ]
  },
  {
   "cell_type": "code",
   "execution_count": null,
   "id": "cbf062b5",
   "metadata": {},
   "outputs": [],
   "source": [
    "import PyPDF2\n",
    "import pyttsx3\n",
    "\n",
    "pdfReader = PyPDF2.PdfFileReader(open('CAR2.pdf', 'rb'))\n",
    "speaker = pyttsx3.init()\n",
    "for page_num in range(pdfReader.numPages):\n",
    "    text =  pdfReader.getPage(page_num).extractText()\n",
    "    speaker.say(text)\n",
    "    speaker.runAndWait()\n",
    "speaker.stop()\n",
    "\n",
    "speaker.save_to_file(text, 'audio.mp3')\n",
    "speaker.runAndWait()"
   ]
  },
  {
   "cell_type": "code",
   "execution_count": null,
   "id": "8d499dcd",
   "metadata": {},
   "outputs": [],
   "source": []
  },
  {
   "cell_type": "code",
   "execution_count": null,
   "id": "f739dc62",
   "metadata": {},
   "outputs": [],
   "source": []
  }
 ],
 "metadata": {
  "kernelspec": {
   "display_name": "Python 3",
   "language": "python",
   "name": "python3"
  },
  "language_info": {
   "codemirror_mode": {
    "name": "ipython",
    "version": 3
   },
   "file_extension": ".py",
   "mimetype": "text/x-python",
   "name": "python",
   "nbconvert_exporter": "python",
   "pygments_lexer": "ipython3",
   "version": "3.8.8"
  }
 },
 "nbformat": 4,
 "nbformat_minor": 5
}
